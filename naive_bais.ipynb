{
 "cells": [
  {
   "cell_type": "code",
   "execution_count": 54,
   "id": "45765225",
   "metadata": {},
   "outputs": [],
   "source": [
    "import pandas as pd\n",
    "import numpy as np\n",
    "\n",
    "import re\n",
    "\n",
    "from sklearn.model_selection import train_test_split\n",
    "from sklearn.feature_extraction.text import CountVectorizer\n",
    "from sklearn.naive_bayes import MultinomialNB\n",
    "from sklearn.metrics import accuracy_score\n",
    "from sklearn.metrics import classification_report"
   ]
  },
  {
   "cell_type": "code",
   "execution_count": 55,
   "id": "e02903dd",
   "metadata": {},
   "outputs": [],
   "source": [
    "# obtained by tesseract lib\n",
    "\n",
    "data = pd.read_csv('final_data.csv')\n",
    "data = pd.DataFrame(data[\"Text\"])"
   ]
  },
  {
   "cell_type": "code",
   "execution_count": 56,
   "id": "47d153ac",
   "metadata": {},
   "outputs": [
    {
     "data": {
      "text/plain": [
       "(4516, 1)"
      ]
     },
     "execution_count": 56,
     "metadata": {},
     "output_type": "execute_result"
    }
   ],
   "source": [
    "data.shape"
   ]
  },
  {
   "cell_type": "code",
   "execution_count": 57,
   "id": "09a4ac73",
   "metadata": {},
   "outputs": [
    {
     "data": {
      "text/html": [
       "<div>\n",
       "<style scoped>\n",
       "    .dataframe tbody tr th:only-of-type {\n",
       "        vertical-align: middle;\n",
       "    }\n",
       "\n",
       "    .dataframe tbody tr th {\n",
       "        vertical-align: top;\n",
       "    }\n",
       "\n",
       "    .dataframe thead th {\n",
       "        text-align: right;\n",
       "    }\n",
       "</style>\n",
       "<table border=\"1\" class=\"dataframe\">\n",
       "  <thead>\n",
       "    <tr style=\"text-align: right;\">\n",
       "      <th></th>\n",
       "      <th>Text</th>\n",
       "    </tr>\n",
       "  </thead>\n",
       "  <tbody>\n",
       "    <tr>\n",
       "      <th>0</th>\n",
       "      <td>9 THE AIML StORE1234 SOMEWHERE RD iPOWAY, CALI...</td>\n",
       "    </tr>\n",
       "    <tr>\n",
       "      <th>1</th>\n",
       "      <td>2 i LEGALSAFE SHOP mas = WITHAndDIRECT few &gt; G...</td>\n",
       "    </tr>\n",
       "    <tr>\n",
       "      <th>2</th>\n",
       "      <td>10   COMPANY NAME Salary slip for January 2015...</td>\n",
       "    </tr>\n",
       "    <tr>\n",
       "      <th>3</th>\n",
       "      <td>2  NAGASWARAHhuie © PublishingSURAT KETERANGAN...</td>\n",
       "    </tr>\n",
       "    <tr>\n",
       "      <th>4</th>\n",
       "      <td>5 =GND002365:!</td>\n",
       "    </tr>\n",
       "  </tbody>\n",
       "</table>\n",
       "</div>"
      ],
      "text/plain": [
       "                                                Text\n",
       "0  9 THE AIML StORE1234 SOMEWHERE RD iPOWAY, CALI...\n",
       "1  2 i LEGALSAFE SHOP mas = WITHAndDIRECT few > G...\n",
       "2  10   COMPANY NAME Salary slip for January 2015...\n",
       "3  2  NAGASWARAHhuie © PublishingSURAT KETERANGAN...\n",
       "4                                   5 =GND002365:! "
      ]
     },
     "execution_count": 57,
     "metadata": {},
     "output_type": "execute_result"
    }
   ],
   "source": [
    "data.head()"
   ]
  },
  {
   "cell_type": "code",
   "execution_count": 58,
   "id": "4900aa64",
   "metadata": {},
   "outputs": [
    {
     "data": {
      "text/html": [
       "<div>\n",
       "<style scoped>\n",
       "    .dataframe tbody tr th:only-of-type {\n",
       "        vertical-align: middle;\n",
       "    }\n",
       "\n",
       "    .dataframe tbody tr th {\n",
       "        vertical-align: top;\n",
       "    }\n",
       "\n",
       "    .dataframe thead th {\n",
       "        text-align: right;\n",
       "    }\n",
       "</style>\n",
       "<table border=\"1\" class=\"dataframe\">\n",
       "  <thead>\n",
       "    <tr style=\"text-align: right;\">\n",
       "      <th></th>\n",
       "      <th>Text</th>\n",
       "    </tr>\n",
       "  </thead>\n",
       "  <tbody>\n",
       "    <tr>\n",
       "      <th>4511</th>\n",
       "      <td>10  ‘Abc LimitedIndore 52010, hy Padesh, NOU,s...</td>\n",
       "    </tr>\n",
       "    <tr>\n",
       "      <th>4512</th>\n",
       "      <td>7 Residence: 423 North 2nd Streetity, State, a...</td>\n",
       "    </tr>\n",
       "    <tr>\n",
       "      <th>4513</th>\n",
       "      <td>1  Page 10f5. 03/02/2022bc 1090001004290 as)An...</td>\n",
       "    </tr>\n",
       "    <tr>\n",
       "      <th>4514</th>\n",
       "      <td>8 (GENERAL DURABLE POWER OF ATTORNEY‘THE POWER...</td>\n",
       "    </tr>\n",
       "    <tr>\n",
       "      <th>4515</th>\n",
       "      <td>11 TFC5905 TANG/FONG CORPORATION05 Federal Sta...</td>\n",
       "    </tr>\n",
       "  </tbody>\n",
       "</table>\n",
       "</div>"
      ],
      "text/plain": [
       "                                                   Text\n",
       "4511  10  ‘Abc LimitedIndore 52010, hy Padesh, NOU,s...\n",
       "4512  7 Residence: 423 North 2nd Streetity, State, a...\n",
       "4513  1  Page 10f5. 03/02/2022bc 1090001004290 as)An...\n",
       "4514  8 (GENERAL DURABLE POWER OF ATTORNEY‘THE POWER...\n",
       "4515  11 TFC5905 TANG/FONG CORPORATION05 Federal Sta..."
      ]
     },
     "execution_count": 58,
     "metadata": {},
     "output_type": "execute_result"
    }
   ],
   "source": [
    "data.tail()"
   ]
  },
  {
   "cell_type": "code",
   "execution_count": 59,
   "id": "3e9d3577",
   "metadata": {},
   "outputs": [
    {
     "data": {
      "text/plain": [
       "Text    0\n",
       "dtype: int64"
      ]
     },
     "execution_count": 59,
     "metadata": {},
     "output_type": "execute_result"
    }
   ],
   "source": [
    "data.isnull().sum()"
   ]
  },
  {
   "cell_type": "code",
   "execution_count": 60,
   "id": "a2e6ffeb",
   "metadata": {},
   "outputs": [],
   "source": [
    "def get_label(text):\n",
    "    k=''\n",
    "    for i in text:\n",
    "        if i==' ':\n",
    "            if len(k)>2:\n",
    "                return 8\n",
    "            return int(k)\n",
    "        k+=i"
   ]
  },
  {
   "cell_type": "code",
   "execution_count": 61,
   "id": "0c4df97a",
   "metadata": {},
   "outputs": [],
   "source": [
    "data['label'] = data['Text'].apply(lambda x: get_label(x))\n",
    "data[\"Text\"] = data['Text'].str[1:]"
   ]
  },
  {
   "cell_type": "code",
   "execution_count": 62,
   "id": "f65bcc28",
   "metadata": {},
   "outputs": [
    {
     "data": {
      "text/html": [
       "<div>\n",
       "<style scoped>\n",
       "    .dataframe tbody tr th:only-of-type {\n",
       "        vertical-align: middle;\n",
       "    }\n",
       "\n",
       "    .dataframe tbody tr th {\n",
       "        vertical-align: top;\n",
       "    }\n",
       "\n",
       "    .dataframe thead th {\n",
       "        text-align: right;\n",
       "    }\n",
       "</style>\n",
       "<table border=\"1\" class=\"dataframe\">\n",
       "  <thead>\n",
       "    <tr style=\"text-align: right;\">\n",
       "      <th></th>\n",
       "      <th>Text</th>\n",
       "      <th>label</th>\n",
       "    </tr>\n",
       "  </thead>\n",
       "  <tbody>\n",
       "    <tr>\n",
       "      <th>0</th>\n",
       "      <td>THE AIML StORE1234 SOMEWHERE RD iPOWAY, CALIF...</td>\n",
       "      <td>9</td>\n",
       "    </tr>\n",
       "    <tr>\n",
       "      <th>1</th>\n",
       "      <td>i LEGALSAFE SHOP mas = WITHAndDIRECT few &gt; Go...</td>\n",
       "      <td>2</td>\n",
       "    </tr>\n",
       "    <tr>\n",
       "      <th>2</th>\n",
       "      <td>0   COMPANY NAME Salary slip for January 2015 ...</td>\n",
       "      <td>10</td>\n",
       "    </tr>\n",
       "    <tr>\n",
       "      <th>3</th>\n",
       "      <td>NAGASWARAHhuie © PublishingSURAT KETERANGAN ...</td>\n",
       "      <td>2</td>\n",
       "    </tr>\n",
       "    <tr>\n",
       "      <th>4</th>\n",
       "      <td>=GND002365:!</td>\n",
       "      <td>5</td>\n",
       "    </tr>\n",
       "  </tbody>\n",
       "</table>\n",
       "</div>"
      ],
      "text/plain": [
       "                                                Text  label\n",
       "0   THE AIML StORE1234 SOMEWHERE RD iPOWAY, CALIF...      9\n",
       "1   i LEGALSAFE SHOP mas = WITHAndDIRECT few > Go...      2\n",
       "2  0   COMPANY NAME Salary slip for January 2015 ...     10\n",
       "3    NAGASWARAHhuie © PublishingSURAT KETERANGAN ...      2\n",
       "4                                     =GND002365:! \n",
       "      5"
      ]
     },
     "execution_count": 62,
     "metadata": {},
     "output_type": "execute_result"
    }
   ],
   "source": [
    "data.head()"
   ]
  },
  {
   "cell_type": "code",
   "execution_count": 63,
   "id": "ba577bae",
   "metadata": {},
   "outputs": [],
   "source": [
    "#data.to_csv(r'D:\\coding\\doc2\\doc_classification\\xyz.csv', index = False, header=True)"
   ]
  },
  {
   "cell_type": "code",
   "execution_count": 64,
   "id": "6b8826b8",
   "metadata": {},
   "outputs": [
    {
     "data": {
      "text/plain": [
       "<AxesSubplot:>"
      ]
     },
     "execution_count": 64,
     "metadata": {},
     "output_type": "execute_result"
    },
    {
     "data": {
      "image/png": "[encoded data removed]",
      "text/plain": [
       "<Figure size 640x480 with 1 Axes>"
      ]
     },
     "metadata": {},
     "output_type": "display_data"
    }
   ],
   "source": [
    "data.label.value_counts().plot(kind='bar')"
   ]
  },
  {
   "cell_type": "code",
   "execution_count": 65,
   "id": "aac6d183",
   "metadata": {},
   "outputs": [
    {
     "data": {
      "text/html": [
       "<div>\n",
       "<style scoped>\n",
       "    .dataframe tbody tr th:only-of-type {\n",
       "        vertical-align: middle;\n",
       "    }\n",
       "\n",
       "    .dataframe tbody tr th {\n",
       "        vertical-align: top;\n",
       "    }\n",
       "\n",
       "    .dataframe thead th {\n",
       "        text-align: right;\n",
       "    }\n",
       "</style>\n",
       "<table border=\"1\" class=\"dataframe\">\n",
       "  <thead>\n",
       "    <tr style=\"text-align: right;\">\n",
       "      <th></th>\n",
       "      <th>Text</th>\n",
       "      <th>label</th>\n",
       "    </tr>\n",
       "  </thead>\n",
       "  <tbody>\n",
       "    <tr>\n",
       "      <th>0</th>\n",
       "      <td>THE AIML StORE1234 SOMEWHERE RD iPOWAY, CALIF...</td>\n",
       "      <td>9</td>\n",
       "    </tr>\n",
       "    <tr>\n",
       "      <th>1</th>\n",
       "      <td>i LEGALSAFE SHOP mas = WITHAndDIRECT few &gt; Go...</td>\n",
       "      <td>2</td>\n",
       "    </tr>\n",
       "    <tr>\n",
       "      <th>2</th>\n",
       "      <td>0   COMPANY NAME Salary slip for January 2015 ...</td>\n",
       "      <td>10</td>\n",
       "    </tr>\n",
       "    <tr>\n",
       "      <th>3</th>\n",
       "      <td>NAGASWARAHhuie © PublishingSURAT KETERANGAN ...</td>\n",
       "      <td>2</td>\n",
       "    </tr>\n",
       "    <tr>\n",
       "      <th>4</th>\n",
       "      <td>=GND002365:!</td>\n",
       "      <td>5</td>\n",
       "    </tr>\n",
       "  </tbody>\n",
       "</table>\n",
       "</div>"
      ],
      "text/plain": [
       "                                                Text  label\n",
       "0   THE AIML StORE1234 SOMEWHERE RD iPOWAY, CALIF...      9\n",
       "1   i LEGALSAFE SHOP mas = WITHAndDIRECT few > Go...      2\n",
       "2  0   COMPANY NAME Salary slip for January 2015 ...     10\n",
       "3    NAGASWARAHhuie © PublishingSURAT KETERANGAN ...      2\n",
       "4                                     =GND002365:! \n",
       "      5"
      ]
     },
     "execution_count": 65,
     "metadata": {},
     "output_type": "execute_result"
    }
   ],
   "source": [
    "data.head()"
   ]
  },
  {
   "cell_type": "code",
   "execution_count": 66,
   "id": "cac2136b",
   "metadata": {},
   "outputs": [
    {
     "data": {
      "text/plain": [
       "(4516, 2)"
      ]
     },
     "execution_count": 66,
     "metadata": {},
     "output_type": "execute_result"
    }
   ],
   "source": [
    "mapping = {0:'address_proof', 1:\"bank_statements\",2:\"business_proof\",3:\"employment_proof\",4:'fund_raising',5:'identity_proof',6:'invoices',7:'personal_finance_statement',8:'power_of_attorney',9:'receipts',10:'salary_slip',11:'tax_return'}\n",
    "data['label'].replace(mapping,inplace = True)\n",
    "\n",
    "\n",
    "data.shape"
   ]
  },
  {
   "cell_type": "code",
   "execution_count": 67,
   "id": "2597d487",
   "metadata": {},
   "outputs": [
    {
     "data": {
      "text/html": [
       "<div>\n",
       "<style scoped>\n",
       "    .dataframe tbody tr th:only-of-type {\n",
       "        vertical-align: middle;\n",
       "    }\n",
       "\n",
       "    .dataframe tbody tr th {\n",
       "        vertical-align: top;\n",
       "    }\n",
       "\n",
       "    .dataframe thead th {\n",
       "        text-align: right;\n",
       "    }\n",
       "</style>\n",
       "<table border=\"1\" class=\"dataframe\">\n",
       "  <thead>\n",
       "    <tr style=\"text-align: right;\">\n",
       "      <th></th>\n",
       "      <th>Text</th>\n",
       "      <th>label</th>\n",
       "    </tr>\n",
       "  </thead>\n",
       "  <tbody>\n",
       "    <tr>\n",
       "      <th>0</th>\n",
       "      <td>THE AIML StORE1234 SOMEWHERE RD iPOWAY, CALIF...</td>\n",
       "      <td>receipts</td>\n",
       "    </tr>\n",
       "    <tr>\n",
       "      <th>1</th>\n",
       "      <td>i LEGALSAFE SHOP mas = WITHAndDIRECT few &gt; Go...</td>\n",
       "      <td>business_proof</td>\n",
       "    </tr>\n",
       "    <tr>\n",
       "      <th>2</th>\n",
       "      <td>0   COMPANY NAME Salary slip for January 2015 ...</td>\n",
       "      <td>salary_slip</td>\n",
       "    </tr>\n",
       "    <tr>\n",
       "      <th>3</th>\n",
       "      <td>NAGASWARAHhuie © PublishingSURAT KETERANGAN ...</td>\n",
       "      <td>business_proof</td>\n",
       "    </tr>\n",
       "    <tr>\n",
       "      <th>4</th>\n",
       "      <td>=GND002365:!</td>\n",
       "      <td>identity_proof</td>\n",
       "    </tr>\n",
       "  </tbody>\n",
       "</table>\n",
       "</div>"
      ],
      "text/plain": [
       "                                                Text           label\n",
       "0   THE AIML StORE1234 SOMEWHERE RD iPOWAY, CALIF...        receipts\n",
       "1   i LEGALSAFE SHOP mas = WITHAndDIRECT few > Go...  business_proof\n",
       "2  0   COMPANY NAME Salary slip for January 2015 ...     salary_slip\n",
       "3    NAGASWARAHhuie © PublishingSURAT KETERANGAN ...  business_proof\n",
       "4                                     =GND002365:! \n",
       "  identity_proof"
      ]
     },
     "execution_count": 67,
     "metadata": {},
     "output_type": "execute_result"
    }
   ],
   "source": [
    "data.head()"
   ]
  },
  {
   "cell_type": "code",
   "execution_count": 68,
   "id": "2b6c3709",
   "metadata": {},
   "outputs": [
    {
     "data": {
      "text/html": [
       "<div>\n",
       "<style scoped>\n",
       "    .dataframe tbody tr th:only-of-type {\n",
       "        vertical-align: middle;\n",
       "    }\n",
       "\n",
       "    .dataframe tbody tr th {\n",
       "        vertical-align: top;\n",
       "    }\n",
       "\n",
       "    .dataframe thead th {\n",
       "        text-align: right;\n",
       "    }\n",
       "</style>\n",
       "<table border=\"1\" class=\"dataframe\">\n",
       "  <thead>\n",
       "    <tr style=\"text-align: right;\">\n",
       "      <th></th>\n",
       "      <th>Text</th>\n",
       "      <th>label</th>\n",
       "    </tr>\n",
       "  </thead>\n",
       "  <tbody>\n",
       "    <tr>\n",
       "      <th>4511</th>\n",
       "      <td>0  ‘Abc LimitedIndore 52010, hy Padesh, NOU,se...</td>\n",
       "      <td>salary_slip</td>\n",
       "    </tr>\n",
       "    <tr>\n",
       "      <th>4512</th>\n",
       "      <td>Residence: 423 North 2nd Streetity, State, an...</td>\n",
       "      <td>personal_finance_statement</td>\n",
       "    </tr>\n",
       "    <tr>\n",
       "      <th>4513</th>\n",
       "      <td>Page 10f5. 03/02/2022bc 1090001004290 as)Any...</td>\n",
       "      <td>bank_statements</td>\n",
       "    </tr>\n",
       "    <tr>\n",
       "      <th>4514</th>\n",
       "      <td>(GENERAL DURABLE POWER OF ATTORNEY‘THE POWERS...</td>\n",
       "      <td>power_of_attorney</td>\n",
       "    </tr>\n",
       "    <tr>\n",
       "      <th>4515</th>\n",
       "      <td>1 TFC5905 TANG/FONG CORPORATION05 Federal Stat...</td>\n",
       "      <td>tax_return</td>\n",
       "    </tr>\n",
       "  </tbody>\n",
       "</table>\n",
       "</div>"
      ],
      "text/plain": [
       "                                                   Text  \\\n",
       "4511  0  ‘Abc LimitedIndore 52010, hy Padesh, NOU,se...   \n",
       "4512   Residence: 423 North 2nd Streetity, State, an...   \n",
       "4513    Page 10f5. 03/02/2022bc 1090001004290 as)Any...   \n",
       "4514   (GENERAL DURABLE POWER OF ATTORNEY‘THE POWERS...   \n",
       "4515  1 TFC5905 TANG/FONG CORPORATION05 Federal Stat...   \n",
       "\n",
       "                           label  \n",
       "4511                 salary_slip  \n",
       "4512  personal_finance_statement  \n",
       "4513             bank_statements  \n",
       "4514           power_of_attorney  \n",
       "4515                  tax_return  "
      ]
     },
     "execution_count": 68,
     "metadata": {},
     "output_type": "execute_result"
    }
   ],
   "source": [
    "data.tail()"
   ]
  },
  {
   "cell_type": "code",
   "execution_count": 69,
   "id": "2200334c",
   "metadata": {},
   "outputs": [],
   "source": [
    "mapping = {0:'address_proof', 1:\"bank_statements\",2:\"business_proof\",3:\"employment_proof\",4:'fund_raising',5:'identity_proof',6:'invoices',7:'personal_finance_statement',8:'power_of_attorney',9:'receipts',10:'salary_slip',11:'tax_return'}\n",
    "data['label'].replace(mapping,inplace = True)"
   ]
  },
  {
   "cell_type": "code",
   "execution_count": 70,
   "id": "ab7922eb",
   "metadata": {},
   "outputs": [
    {
     "data": {
      "text/plain": [
       "<AxesSubplot:>"
      ]
     },
     "execution_count": 70,
     "metadata": {},
     "output_type": "execute_result"
    },
    {
     "data": {
      "image/png": "[encoded data removed]",
      "text/plain": [
       "<Figure size 640x480 with 1 Axes>"
      ]
     },
     "metadata": {},
     "output_type": "display_data"
    }
   ],
   "source": [
    "data.label.value_counts().plot(kind='bar')"
   ]
  },
  {
   "cell_type": "code",
   "execution_count": 71,
   "id": "15b7e7e8",
   "metadata": {},
   "outputs": [
    {
     "data": {
      "text/plain": [
       "tax_return                    652\n",
       "personal_finance_statement    553\n",
       "bank_statements               474\n",
       "receipts                      406\n",
       "employment_proof              350\n",
       "invoices                      350\n",
       "salary_slip                   346\n",
       "power_of_attorney             337\n",
       "address_proof                 295\n",
       "identity_proof                278\n",
       "business_proof                262\n",
       "fund_raising                  213\n",
       "Name: label, dtype: int64"
      ]
     },
     "execution_count": 71,
     "metadata": {},
     "output_type": "execute_result"
    }
   ],
   "source": [
    "data.label.value_counts()"
   ]
  },
  {
   "cell_type": "code",
   "execution_count": 72,
   "id": "be260c9f",
   "metadata": {},
   "outputs": [],
   "source": [
    "data['Text'] = data['Text'].replace(r'[^A-Za-z0-9 ]+', '')\n",
    "data['Text'] = data['Text'].apply (lambda x: re.sub(r\"((?<=^)|(?<= )).((?=$)|(?= ))\", '', x).strip())\n",
    "\n",
    "# replacing the punctuations and the other sindle lettered words\n",
    "# "
   ]
  },
  {
   "cell_type": "code",
   "execution_count": 73,
   "id": "9db5841a",
   "metadata": {},
   "outputs": [],
   "source": [
    "vectorizer = CountVectorizer(stop_words='english') \n",
    "\n",
    "# for counting the frequencies of words"
   ]
  },
  {
   "cell_type": "code",
   "execution_count": 74,
   "id": "28cef5a9",
   "metadata": {},
   "outputs": [],
   "source": [
    "x = data['Text']\n",
    "y = data['label']"
   ]
  },
  {
   "cell_type": "code",
   "execution_count": 75,
   "id": "1fcff96c",
   "metadata": {},
   "outputs": [],
   "source": [
    "x_train, x_test, y_train,y_test = train_test_split(x, y, test_size=0.2, random_state = 88)\n",
    "\n",
    "\n",
    "#"
   ]
  },
  {
   "cell_type": "code",
   "execution_count": 76,
   "id": "da89841b",
   "metadata": {},
   "outputs": [
    {
     "data": {
      "text/plain": [
       "<3612x12164 sparse matrix of type '<class 'numpy.int64'>'\n",
       "\twith 316012 stored elements in Compressed Sparse Row format>"
      ]
     },
     "execution_count": 76,
     "metadata": {},
     "output_type": "execute_result"
    }
   ],
   "source": [
    "x_vec = vectorizer.fit_transform(x_train)\n",
    "x_vec"
   ]
  },
  {
   "cell_type": "code",
   "execution_count": 77,
   "id": "9ead670c",
   "metadata": {},
   "outputs": [],
   "source": [
    "model = MultinomialNB()"
   ]
  },
  {
   "cell_type": "code",
   "execution_count": 78,
   "id": "9e7b43a8",
   "metadata": {},
   "outputs": [
    {
     "data": {
      "text/html": [
       "<style>#sk-container-id-1 {color: black;background-color: white;}#sk-container-id-1 pre{padding: 0;}#sk-container-id-1 div.sk-toggleable {background-color: white;}#sk-container-id-1 label.sk-toggleable__label {cursor: pointer;display: block;width: 100%;margin-bottom: 0;padding: 0.3em;box-sizing: border-box;text-align: center;}#sk-container-id-1 label.sk-toggleable__label-arrow:before {content: \"▸\";float: left;margin-right: 0.25em;color: #696969;}#sk-container-id-1 label.sk-toggleable__label-arrow:hover:before {color: black;}#sk-container-id-1 div.sk-estimator:hover label.sk-toggleable__label-arrow:before {color: black;}#sk-container-id-1 div.sk-toggleable__content {max-height: 0;max-width: 0;overflow: hidden;text-align: left;background-color: #f0f8ff;}#sk-container-id-1 div.sk-toggleable__content pre {margin: 0.2em;color: black;border-radius: 0.25em;background-color: #f0f8ff;}#sk-container-id-1 input.sk-toggleable__control:checked~div.sk-toggleable__content {max-height: 200px;max-width: 100%;overflow: auto;}#sk-container-id-1 input.sk-toggleable__control:checked~label.sk-toggleable__label-arrow:before {content: \"▾\";}#sk-container-id-1 div.sk-estimator input.sk-toggleable__control:checked~label.sk-toggleable__label {background-color: #d4ebff;}#sk-container-id-1 div.sk-label input.sk-toggleable__control:checked~label.sk-toggleable__label {background-color: #d4ebff;}#sk-container-id-1 input.sk-hidden--visually {border: 0;clip: rect(1px 1px 1px 1px);clip: rect(1px, 1px, 1px, 1px);height: 1px;margin: -1px;overflow: hidden;padding: 0;position: absolute;width: 1px;}#sk-container-id-1 div.sk-estimator {font-family: monospace;background-color: #f0f8ff;border: 1px dotted black;border-radius: 0.25em;box-sizing: border-box;margin-bottom: 0.5em;}#sk-container-id-1 div.sk-estimator:hover {background-color: #d4ebff;}#sk-container-id-1 div.sk-parallel-item::after {content: \"\";width: 100%;border-bottom: 1px solid gray;flex-grow: 1;}#sk-container-id-1 div.sk-label:hover label.sk-toggleable__label {background-color: #d4ebff;}#sk-container-id-1 div.sk-serial::before {content: \"\";position: absolute;border-left: 1px solid gray;box-sizing: border-box;top: 0;bottom: 0;left: 50%;z-index: 0;}#sk-container-id-1 div.sk-serial {display: flex;flex-direction: column;align-items: center;background-color: white;padding-right: 0.2em;padding-left: 0.2em;position: relative;}#sk-container-id-1 div.sk-item {position: relative;z-index: 1;}#sk-container-id-1 div.sk-parallel {display: flex;align-items: stretch;justify-content: center;background-color: white;position: relative;}#sk-container-id-1 div.sk-item::before, #sk-container-id-1 div.sk-parallel-item::before {content: \"\";position: absolute;border-left: 1px solid gray;box-sizing: border-box;top: 0;bottom: 0;left: 50%;z-index: -1;}#sk-container-id-1 div.sk-parallel-item {display: flex;flex-direction: column;z-index: 1;position: relative;background-color: white;}#sk-container-id-1 div.sk-parallel-item:first-child::after {align-self: flex-end;width: 50%;}#sk-container-id-1 div.sk-parallel-item:last-child::after {align-self: flex-start;width: 50%;}#sk-container-id-1 div.sk-parallel-item:only-child::after {width: 0;}#sk-container-id-1 div.sk-dashed-wrapped {border: 1px dashed gray;margin: 0 0.4em 0.5em 0.4em;box-sizing: border-box;padding-bottom: 0.4em;background-color: white;}#sk-container-id-1 div.sk-label label {font-family: monospace;font-weight: bold;display: inline-block;line-height: 1.2em;}#sk-container-id-1 div.sk-label-container {text-align: center;}#sk-container-id-1 div.sk-container {/* jupyter's `normalize.less` sets `[hidden] { display: none; }` but bootstrap.min.css set `[hidden] { display: none !important; }` so we also need the `!important` here to be able to override the default hidden behavior on the sphinx rendered scikit-learn.org. See: https://github.com/scikit-learn/scikit-learn/issues/21755 */display: inline-block !important;position: relative;}#sk-container-id-1 div.sk-text-repr-fallback {display: none;}</style><div id=\"sk-container-id-1\" class=\"sk-top-container\"><div class=\"sk-text-repr-fallback\"><pre>MultinomialNB()</pre><b>In a Jupyter environment, please rerun this cell to show the HTML representation or trust the notebook. <br />On GitHub, the HTML representation is unable to render, please try loading this page with nbviewer.org.</b></div><div class=\"sk-container\" hidden><div class=\"sk-item\"><div class=\"sk-estimator sk-toggleable\"><input class=\"sk-toggleable__control sk-hidden--visually\" id=\"sk-estimator-id-1\" type=\"checkbox\" checked><label for=\"sk-estimator-id-1\" class=\"sk-toggleable__label sk-toggleable__label-arrow\">MultinomialNB</label><div class=\"sk-toggleable__content\"><pre>MultinomialNB()</pre></div></div></div></div></div>"
      ],
      "text/plain": [
       "MultinomialNB()"
      ]
     },
     "execution_count": 78,
     "metadata": {},
     "output_type": "execute_result"
    }
   ],
   "source": [
    "model.fit(x_vec,y_train)"
   ]
  },
  {
   "cell_type": "code",
   "execution_count": 79,
   "id": "7dc850f4",
   "metadata": {},
   "outputs": [
    {
     "data": {
      "text/plain": [
       "array(['tax_return', 'invoices', 'address_proof', 'employment_proof',\n",
       "       'identity_proof', 'tax_return', 'tax_return', 'receipts',\n",
       "       'tax_return', 'employment_proof', 'identity_proof',\n",
       "       'power_of_attorney', 'identity_proof', 'employment_proof',\n",
       "       'receipts', 'tax_return', 'business_proof',\n",
       "       'personal_finance_statement', 'salary_slip', 'tax_return',\n",
       "       'invoices', 'salary_slip', 'tax_return', 'bank_statements',\n",
       "       'tax_return', 'receipts', 'address_proof', 'bank_statements',\n",
       "       'bank_statements', 'personal_finance_statement', 'tax_return',\n",
       "       'tax_return', 'tax_return', 'invoices', 'salary_slip',\n",
       "       'tax_return', 'invoices', 'employment_proof', 'fund_raising',\n",
       "       'bank_statements', 'invoices', 'power_of_attorney', 'fund_raising',\n",
       "       'tax_return', 'tax_return', 'power_of_attorney', 'salary_slip',\n",
       "       'address_proof', 'fund_raising', 'business_proof',\n",
       "       'personal_finance_statement', 'address_proof', 'business_proof',\n",
       "       'personal_finance_statement', 'personal_finance_statement',\n",
       "       'salary_slip', 'invoices', 'tax_return', 'employment_proof',\n",
       "       'invoices', 'receipts', 'bank_statements',\n",
       "       'personal_finance_statement', 'tax_return', 'salary_slip',\n",
       "       'tax_return', 'power_of_attorney', 'personal_finance_statement',\n",
       "       'business_proof', 'tax_return', 'identity_proof', 'salary_slip',\n",
       "       'personal_finance_statement', 'invoices', 'identity_proof',\n",
       "       'bank_statements', 'fund_raising', 'business_proof',\n",
       "       'power_of_attorney', 'tax_return', 'employment_proof',\n",
       "       'business_proof', 'identity_proof', 'salary_slip',\n",
       "       'bank_statements', 'business_proof', 'personal_finance_statement',\n",
       "       'tax_return', 'receipts', 'employment_proof', 'address_proof',\n",
       "       'personal_finance_statement', 'personal_finance_statement',\n",
       "       'invoices', 'address_proof', 'fund_raising', 'address_proof',\n",
       "       'receipts', 'receipts', 'bank_statements', 'power_of_attorney',\n",
       "       'personal_finance_statement', 'bank_statements', 'invoices',\n",
       "       'address_proof', 'tax_return', 'receipts', 'bank_statements',\n",
       "       'tax_return', 'fund_raising', 'salary_slip', 'identity_proof',\n",
       "       'employment_proof', 'fund_raising', 'power_of_attorney',\n",
       "       'employment_proof', 'receipts', 'fund_raising', 'employment_proof',\n",
       "       'bank_statements', 'tax_return', 'personal_finance_statement',\n",
       "       'invoices', 'employment_proof', 'personal_finance_statement',\n",
       "       'identity_proof', 'identity_proof', 'personal_finance_statement',\n",
       "       'receipts', 'employment_proof', 'identity_proof',\n",
       "       'employment_proof', 'personal_finance_statement',\n",
       "       'bank_statements', 'salary_slip', 'tax_return', 'fund_raising',\n",
       "       'personal_finance_statement', 'bank_statements', 'tax_return',\n",
       "       'personal_finance_statement', 'power_of_attorney', 'tax_return',\n",
       "       'power_of_attorney', 'tax_return', 'bank_statements', 'tax_return',\n",
       "       'invoices', 'tax_return', 'employment_proof', 'bank_statements',\n",
       "       'bank_statements', 'bank_statements', 'salary_slip', 'invoices',\n",
       "       'bank_statements', 'fund_raising', 'bank_statements',\n",
       "       'power_of_attorney', 'invoices', 'tax_return', 'identity_proof',\n",
       "       'receipts', 'bank_statements', 'salary_slip', 'bank_statements',\n",
       "       'personal_finance_statement', 'address_proof', 'fund_raising',\n",
       "       'receipts', 'tax_return', 'receipts', 'invoices', 'tax_return',\n",
       "       'invoices', 'salary_slip', 'tax_return',\n",
       "       'personal_finance_statement', 'power_of_attorney',\n",
       "       'personal_finance_statement', 'invoices',\n",
       "       'personal_finance_statement', 'receipts', 'tax_return',\n",
       "       'tax_return', 'employment_proof', 'personal_finance_statement',\n",
       "       'tax_return', 'salary_slip', 'personal_finance_statement',\n",
       "       'business_proof', 'tax_return', 'receipts', 'invoices',\n",
       "       'employment_proof', 'salary_slip', 'receipts', 'receipts',\n",
       "       'power_of_attorney', 'receipts', 'salary_slip',\n",
       "       'power_of_attorney', 'salary_slip', 'personal_finance_statement',\n",
       "       'bank_statements', 'personal_finance_statement', 'identity_proof',\n",
       "       'address_proof', 'business_proof', 'power_of_attorney',\n",
       "       'bank_statements', 'power_of_attorney', 'receipts',\n",
       "       'bank_statements', 'salary_slip', 'business_proof', 'tax_return',\n",
       "       'employment_proof', 'invoices', 'salary_slip', 'salary_slip',\n",
       "       'power_of_attorney', 'tax_return', 'invoices', 'bank_statements',\n",
       "       'bank_statements', 'tax_return', 'tax_return', 'bank_statements',\n",
       "       'salary_slip', 'address_proof', 'tax_return', 'receipts',\n",
       "       'power_of_attorney', 'fund_raising', 'tax_return',\n",
       "       'identity_proof', 'address_proof', 'identity_proof', 'salary_slip',\n",
       "       'bank_statements', 'tax_return', 'tax_return', 'employment_proof',\n",
       "       'identity_proof', 'personal_finance_statement',\n",
       "       'personal_finance_statement', 'invoices', 'identity_proof',\n",
       "       'tax_return', 'fund_raising', 'receipts', 'power_of_attorney',\n",
       "       'receipts', 'power_of_attorney', 'personal_finance_statement',\n",
       "       'bank_statements', 'fund_raising', 'bank_statements', 'tax_return',\n",
       "       'receipts', 'tax_return', 'power_of_attorney',\n",
       "       'personal_finance_statement', 'tax_return', 'address_proof',\n",
       "       'receipts', 'invoices', 'bank_statements', 'invoices',\n",
       "       'business_proof', 'invoices', 'power_of_attorney',\n",
       "       'employment_proof', 'power_of_attorney', 'employment_proof',\n",
       "       'address_proof', 'salary_slip', 'receipts', 'receipts',\n",
       "       'employment_proof', 'tax_return', 'tax_return', 'address_proof',\n",
       "       'tax_return', 'power_of_attorney', 'employment_proof',\n",
       "       'personal_finance_statement', 'bank_statements', 'address_proof',\n",
       "       'tax_return', 'business_proof', 'bank_statements',\n",
       "       'personal_finance_statement', 'bank_statements',\n",
       "       'power_of_attorney', 'personal_finance_statement', 'receipts',\n",
       "       'salary_slip', 'bank_statements', 'business_proof',\n",
       "       'business_proof', 'tax_return', 'power_of_attorney',\n",
       "       'business_proof', 'employment_proof', 'bank_statements',\n",
       "       'tax_return', 'tax_return', 'receipts', 'bank_statements',\n",
       "       'tax_return', 'bank_statements', 'receipts', 'identity_proof',\n",
       "       'employment_proof', 'salary_slip', 'employment_proof',\n",
       "       'fund_raising', 'personal_finance_statement', 'receipts',\n",
       "       'power_of_attorney', 'bank_statements', 'bank_statements',\n",
       "       'fund_raising', 'personal_finance_statement', 'business_proof',\n",
       "       'bank_statements', 'tax_return', 'personal_finance_statement',\n",
       "       'power_of_attorney', 'receipts', 'business_proof', 'salary_slip',\n",
       "       'invoices', 'receipts', 'business_proof', 'power_of_attorney',\n",
       "       'tax_return', 'personal_finance_statement', 'salary_slip',\n",
       "       'tax_return', 'employment_proof', 'tax_return', 'fund_raising',\n",
       "       'salary_slip', 'tax_return', 'bank_statements', 'invoices',\n",
       "       'invoices', 'personal_finance_statement', 'receipts', 'tax_return',\n",
       "       'power_of_attorney', 'personal_finance_statement', 'address_proof',\n",
       "       'salary_slip', 'receipts', 'receipts', 'tax_return', 'tax_return',\n",
       "       'fund_raising', 'tax_return', 'fund_raising', 'identity_proof',\n",
       "       'receipts', 'receipts', 'address_proof', 'tax_return',\n",
       "       'power_of_attorney', 'power_of_attorney', 'business_proof',\n",
       "       'bank_statements', 'power_of_attorney', 'tax_return', 'tax_return',\n",
       "       'personal_finance_statement', 'receipts', 'power_of_attorney',\n",
       "       'invoices', 'tax_return', 'personal_finance_statement',\n",
       "       'identity_proof', 'employment_proof', 'receipts', 'identity_proof',\n",
       "       'power_of_attorney', 'personal_finance_statement',\n",
       "       'personal_finance_statement', 'address_proof', 'identity_proof',\n",
       "       'employment_proof', 'business_proof', 'tax_return',\n",
       "       'bank_statements', 'identity_proof', 'receipts', 'tax_return',\n",
       "       'business_proof', 'employment_proof', 'receipts', 'tax_return',\n",
       "       'bank_statements', 'address_proof', 'personal_finance_statement',\n",
       "       'invoices', 'power_of_attorney', 'bank_statements',\n",
       "       'identity_proof', 'receipts', 'employment_proof',\n",
       "       'personal_finance_statement', 'employment_proof', 'fund_raising',\n",
       "       'bank_statements', 'personal_finance_statement', 'receipts',\n",
       "       'power_of_attorney', 'power_of_attorney', 'business_proof',\n",
       "       'employment_proof', 'fund_raising', 'bank_statements',\n",
       "       'salary_slip', 'fund_raising', 'receipts', 'identity_proof',\n",
       "       'bank_statements', 'personal_finance_statement', 'invoices',\n",
       "       'salary_slip', 'receipts', 'personal_finance_statement',\n",
       "       'employment_proof', 'power_of_attorney', 'bank_statements',\n",
       "       'fund_raising', 'fund_raising', 'receipts', 'invoices',\n",
       "       'power_of_attorney', 'receipts', 'invoices', 'invoices',\n",
       "       'bank_statements', 'business_proof', 'employment_proof',\n",
       "       'identity_proof', 'tax_return', 'tax_return',\n",
       "       'personal_finance_statement', 'personal_finance_statement',\n",
       "       'receipts', 'bank_statements', 'identity_proof',\n",
       "       'employment_proof', 'receipts', 'invoices', 'power_of_attorney',\n",
       "       'tax_return', 'fund_raising', 'bank_statements',\n",
       "       'employment_proof', 'salary_slip', 'fund_raising', 'tax_return',\n",
       "       'invoices', 'receipts', 'employment_proof', 'tax_return',\n",
       "       'address_proof', 'tax_return', 'personal_finance_statement',\n",
       "       'tax_return', 'salary_slip', 'salary_slip', 'tax_return',\n",
       "       'power_of_attorney', 'address_proof', 'tax_return',\n",
       "       'personal_finance_statement', 'employment_proof', 'tax_return',\n",
       "       'identity_proof', 'tax_return', 'bank_statements', 'tax_return',\n",
       "       'tax_return', 'invoices', 'address_proof', 'employment_proof',\n",
       "       'tax_return', 'fund_raising', 'employment_proof', 'fund_raising',\n",
       "       'bank_statements', 'power_of_attorney', 'salary_slip',\n",
       "       'tax_return', 'employment_proof', 'personal_finance_statement',\n",
       "       'receipts', 'receipts', 'identity_proof', 'employment_proof',\n",
       "       'fund_raising', 'tax_return', 'address_proof', 'salary_slip',\n",
       "       'receipts', 'receipts', 'bank_statements', 'employment_proof',\n",
       "       'tax_return', 'receipts', 'personal_finance_statement',\n",
       "       'tax_return', 'bank_statements', 'receipts', 'receipts',\n",
       "       'bank_statements', 'address_proof', 'tax_return', 'fund_raising',\n",
       "       'address_proof', 'power_of_attorney', 'bank_statements',\n",
       "       'personal_finance_statement', 'tax_return', 'tax_return',\n",
       "       'tax_return', 'receipts', 'personal_finance_statement',\n",
       "       'bank_statements', 'salary_slip', 'invoices', 'bank_statements',\n",
       "       'tax_return', 'personal_finance_statement', 'employment_proof',\n",
       "       'business_proof', 'fund_raising', 'tax_return', 'employment_proof',\n",
       "       'receipts', 'business_proof', 'tax_return', 'address_proof',\n",
       "       'bank_statements', 'salary_slip', 'salary_slip', 'address_proof',\n",
       "       'bank_statements', 'salary_slip', 'tax_return',\n",
       "       'personal_finance_statement', 'invoices', 'fund_raising',\n",
       "       'personal_finance_statement', 'tax_return', 'power_of_attorney',\n",
       "       'power_of_attorney', 'bank_statements', 'tax_return',\n",
       "       'personal_finance_statement', 'personal_finance_statement',\n",
       "       'salary_slip', 'personal_finance_statement',\n",
       "       'personal_finance_statement', 'salary_slip', 'tax_return',\n",
       "       'address_proof', 'identity_proof', 'business_proof', 'invoices',\n",
       "       'invoices', 'employment_proof', 'receipts', 'bank_statements',\n",
       "       'employment_proof', 'business_proof', 'tax_return',\n",
       "       'power_of_attorney', 'bank_statements', 'bank_statements',\n",
       "       'salary_slip', 'salary_slip', 'personal_finance_statement',\n",
       "       'tax_return', 'receipts', 'power_of_attorney', 'power_of_attorney',\n",
       "       'salary_slip', 'tax_return', 'address_proof',\n",
       "       'personal_finance_statement', 'salary_slip',\n",
       "       'personal_finance_statement', 'salary_slip', 'tax_return',\n",
       "       'bank_statements', 'salary_slip', 'address_proof', 'address_proof',\n",
       "       'invoices', 'fund_raising', 'personal_finance_statement',\n",
       "       'invoices', 'business_proof', 'tax_return', 'employment_proof',\n",
       "       'business_proof', 'tax_return', 'business_proof', 'invoices',\n",
       "       'personal_finance_statement', 'tax_return', 'salary_slip',\n",
       "       'power_of_attorney', 'salary_slip', 'employment_proof', 'receipts',\n",
       "       'fund_raising', 'bank_statements', 'personal_finance_statement',\n",
       "       'bank_statements', 'fund_raising', 'tax_return', 'tax_return',\n",
       "       'invoices', 'personal_finance_statement', 'tax_return',\n",
       "       'address_proof', 'address_proof', 'employment_proof',\n",
       "       'identity_proof', 'receipts', 'business_proof', 'bank_statements',\n",
       "       'personal_finance_statement', 'bank_statements',\n",
       "       'employment_proof', 'receipts', 'bank_statements',\n",
       "       'personal_finance_statement', 'tax_return', 'identity_proof',\n",
       "       'tax_return', 'bank_statements', 'tax_return', 'business_proof',\n",
       "       'invoices', 'power_of_attorney', 'invoices',\n",
       "       'personal_finance_statement', 'power_of_attorney',\n",
       "       'identity_proof', 'bank_statements', 'tax_return', 'tax_return',\n",
       "       'personal_finance_statement', 'receipts', 'fund_raising',\n",
       "       'business_proof', 'receipts', 'tax_return', 'invoices',\n",
       "       'tax_return', 'power_of_attorney', 'power_of_attorney',\n",
       "       'power_of_attorney', 'salary_slip', 'address_proof',\n",
       "       'employment_proof', 'tax_return', 'invoices', 'tax_return',\n",
       "       'receipts', 'tax_return', 'fund_raising', 'tax_return',\n",
       "       'business_proof', 'tax_return', 'invoices', 'tax_return',\n",
       "       'employment_proof', 'identity_proof', 'personal_finance_statement',\n",
       "       'address_proof', 'business_proof', 'bank_statements', 'invoices',\n",
       "       'personal_finance_statement', 'salary_slip', 'identity_proof',\n",
       "       'employment_proof', 'personal_finance_statement', 'salary_slip',\n",
       "       'business_proof', 'tax_return', 'bank_statements', 'salary_slip',\n",
       "       'invoices', 'invoices', 'personal_finance_statement',\n",
       "       'bank_statements', 'receipts', 'receipts', 'business_proof',\n",
       "       'tax_return', 'personal_finance_statement',\n",
       "       'personal_finance_statement', 'personal_finance_statement',\n",
       "       'personal_finance_statement', 'bank_statements', 'address_proof',\n",
       "       'power_of_attorney', 'personal_finance_statement',\n",
       "       'bank_statements', 'salary_slip', 'tax_return',\n",
       "       'personal_finance_statement', 'receipts', 'tax_return',\n",
       "       'personal_finance_statement', 'business_proof', 'identity_proof',\n",
       "       'tax_return', 'personal_finance_statement',\n",
       "       'personal_finance_statement', 'employment_proof',\n",
       "       'power_of_attorney', 'employment_proof', 'invoices',\n",
       "       'identity_proof', 'employment_proof', 'invoices',\n",
       "       'bank_statements', 'personal_finance_statement', 'receipts',\n",
       "       'address_proof', 'receipts', 'business_proof', 'identity_proof',\n",
       "       'identity_proof', 'receipts', 'identity_proof', 'receipts',\n",
       "       'bank_statements', 'tax_return', 'business_proof',\n",
       "       'bank_statements', 'salary_slip', 'business_proof',\n",
       "       'business_proof', 'identity_proof', 'tax_return',\n",
       "       'personal_finance_statement', 'tax_return', 'tax_return',\n",
       "       'tax_return', 'personal_finance_statement', 'employment_proof',\n",
       "       'business_proof', 'personal_finance_statement', 'bank_statements',\n",
       "       'tax_return', 'tax_return', 'personal_finance_statement',\n",
       "       'personal_finance_statement', 'tax_return', 'invoices',\n",
       "       'tax_return', 'personal_finance_statement', 'salary_slip',\n",
       "       'invoices', 'bank_statements', 'employment_proof',\n",
       "       'personal_finance_statement', 'invoices', 'tax_return',\n",
       "       'employment_proof', 'power_of_attorney',\n",
       "       'personal_finance_statement', 'tax_return', 'identity_proof',\n",
       "       'tax_return', 'personal_finance_statement',\n",
       "       'personal_finance_statement', 'power_of_attorney', 'tax_return',\n",
       "       'employment_proof', 'identity_proof', 'identity_proof',\n",
       "       'salary_slip', 'invoices', 'salary_slip',\n",
       "       'personal_finance_statement', 'fund_raising', 'tax_return',\n",
       "       'salary_slip', 'bank_statements', 'employment_proof', 'tax_return',\n",
       "       'fund_raising', 'identity_proof', 'fund_raising', 'salary_slip',\n",
       "       'receipts', 'salary_slip', 'business_proof', 'tax_return',\n",
       "       'bank_statements', 'personal_finance_statement', 'bank_statements',\n",
       "       'tax_return', 'bank_statements', 'tax_return', 'receipts',\n",
       "       'employment_proof', 'invoices', 'personal_finance_statement',\n",
       "       'personal_finance_statement', 'receipts', 'power_of_attorney',\n",
       "       'business_proof', 'fund_raising', 'tax_return', 'salary_slip',\n",
       "       'tax_return', 'personal_finance_statement', 'tax_return',\n",
       "       'business_proof', 'tax_return', 'address_proof', 'receipts',\n",
       "       'invoices', 'tax_return', 'personal_finance_statement',\n",
       "       'personal_finance_statement', 'employment_proof', 'address_proof',\n",
       "       'tax_return', 'invoices', 'tax_return', 'power_of_attorney',\n",
       "       'fund_raising', 'business_proof', 'address_proof', 'address_proof',\n",
       "       'personal_finance_statement', 'receipts', 'business_proof',\n",
       "       'invoices', 'bank_statements', 'tax_return', 'identity_proof',\n",
       "       'salary_slip', 'identity_proof', 'business_proof', 'tax_return',\n",
       "       'business_proof', 'tax_return', 'personal_finance_statement',\n",
       "       'invoices', 'tax_return', 'power_of_attorney', 'power_of_attorney',\n",
       "       'bank_statements', 'business_proof', 'fund_raising',\n",
       "       'personal_finance_statement', 'power_of_attorney', 'fund_raising',\n",
       "       'receipts', 'personal_finance_statement', 'address_proof',\n",
       "       'identity_proof', 'tax_return', 'personal_finance_statement',\n",
       "       'invoices', 'salary_slip', 'tax_return',\n",
       "       'personal_finance_statement', 'receipts', 'tax_return',\n",
       "       'power_of_attorney', 'personal_finance_statement', 'address_proof',\n",
       "       'invoices', 'personal_finance_statement', 'power_of_attorney',\n",
       "       'salary_slip', 'address_proof', 'identity_proof',\n",
       "       'personal_finance_statement', 'power_of_attorney', 'tax_return',\n",
       "       'invoices', 'salary_slip', 'business_proof', 'employment_proof',\n",
       "       'invoices', 'tax_return'], dtype='<U26')"
      ]
     },
     "execution_count": 79,
     "metadata": {},
     "output_type": "execute_result"
    }
   ],
   "source": [
    "y_pred = model.predict(vectorizer.transform(x_test))\n",
    "y_pred"
   ]
  },
  {
   "cell_type": "code",
   "execution_count": 80,
   "id": "0c29993c",
   "metadata": {},
   "outputs": [
    {
     "name": "stdout",
     "output_type": "stream",
     "text": [
      "0.9712389380530974\n"
     ]
    }
   ],
   "source": [
    "print(accuracy_score(y_test,y_pred))"
   ]
  },
  {
   "cell_type": "code",
   "execution_count": 92,
   "id": "bade30e4",
   "metadata": {},
   "outputs": [
    {
     "data": {
      "text/html": [
       "<div>\n",
       "<style scoped>\n",
       "    .dataframe tbody tr th:only-of-type {\n",
       "        vertical-align: middle;\n",
       "    }\n",
       "\n",
       "    .dataframe tbody tr th {\n",
       "        vertical-align: top;\n",
       "    }\n",
       "\n",
       "    .dataframe thead th {\n",
       "        text-align: right;\n",
       "    }\n",
       "</style>\n",
       "<table border=\"1\" class=\"dataframe\">\n",
       "  <thead>\n",
       "    <tr style=\"text-align: right;\">\n",
       "      <th></th>\n",
       "      <th>Text</th>\n",
       "    </tr>\n",
       "  </thead>\n",
       "  <tbody>\n",
       "    <tr>\n",
       "      <th>0</th>\n",
       "      <td>STATE OF SOUTH CAROLINA _ ) AFFIDAVIT OF  RESI...</td>\n",
       "    </tr>\n",
       "  </tbody>\n",
       "</table>\n",
       "</div>"
      ],
      "text/plain": [
       "                                                Text\n",
       "0  STATE OF SOUTH CAROLINA _ ) AFFIDAVIT OF  RESI..."
      ]
     },
     "execution_count": 92,
     "metadata": {},
     "output_type": "execute_result"
    }
   ],
   "source": [
    "te = pd.read_csv('test.csv')\n",
    "te"
   ]
  },
  {
   "cell_type": "code",
   "execution_count": 93,
   "id": "f19e2754",
   "metadata": {},
   "outputs": [
    {
     "data": {
      "text/plain": [
       "Text    0\n",
       "dtype: int64"
      ]
     },
     "execution_count": 93,
     "metadata": {},
     "output_type": "execute_result"
    }
   ],
   "source": [
    "te.isnull().sum()"
   ]
  },
  {
   "cell_type": "code",
   "execution_count": 94,
   "id": "38fa75de",
   "metadata": {},
   "outputs": [
    {
     "data": {
      "text/plain": [
       "0    STATE OF SOUTH CAROLINA _ ) AFFIDAVIT OF  RESI...\n",
       "Name: Text, dtype: object"
      ]
     },
     "execution_count": 94,
     "metadata": {},
     "output_type": "execute_result"
    }
   ],
   "source": [
    "test = te['Text']\n",
    "test"
   ]
  },
  {
   "cell_type": "code",
   "execution_count": 95,
   "id": "8a3414cf",
   "metadata": {},
   "outputs": [
    {
     "data": {
      "text/plain": [
       "<1x12164 sparse matrix of type '<class 'numpy.int64'>'\n",
       "\twith 61 stored elements in Compressed Sparse Row format>"
      ]
     },
     "execution_count": 95,
     "metadata": {},
     "output_type": "execute_result"
    }
   ],
   "source": [
    "test_vec = vectorizer.transform(test)\n",
    "test_vec"
   ]
  },
  {
   "cell_type": "code",
   "execution_count": null,
   "id": "96db2d10",
   "metadata": {},
   "outputs": [],
   "source": []
  },
  {
   "cell_type": "code",
   "execution_count": 86,
   "id": "21437713",
   "metadata": {},
   "outputs": [
    {
     "data": {
      "text/plain": [
       "array(['address_proof'], dtype='<U26')"
      ]
     },
     "execution_count": 86,
     "metadata": {},
     "output_type": "execute_result"
    }
   ],
   "source": [
    "model.predict(vectorizer.transform(test))"
   ]
  },
  {
   "cell_type": "code",
   "execution_count": null,
   "id": "f9da9760",
   "metadata": {},
   "outputs": [],
   "source": []
  },
  {
   "cell_type": "code",
   "execution_count": 87,
   "id": "c2cc96fe",
   "metadata": {},
   "outputs": [],
   "source": [
    "# exporting the model"
   ]
  },
  {
   "cell_type": "code",
   "execution_count": 88,
   "id": "2ff10295",
   "metadata": {},
   "outputs": [],
   "source": [
    "import pickle"
   ]
  },
  {
   "cell_type": "code",
   "execution_count": 89,
   "id": "34b1f11b",
   "metadata": {},
   "outputs": [],
   "source": [
    "pickle.dump(model,open('naive_model.pkl','wb'))"
   ]
  },
  {
   "cell_type": "code",
   "execution_count": null,
   "id": "2e2e3b6c",
   "metadata": {},
   "outputs": [],
   "source": []
  }
 ],
 "metadata": {
  "kernelspec": {
   "display_name": "Python 3.9.13 64-bit (microsoft store)",
   "language": "python",
   "name": "python3"
  },
  "language_info": {
   "codemirror_mode": {
    "name": "ipython",
    "version": 3
   },
   "file_extension": ".py",
   "mimetype": "text/x-python",
   "name": "python",
   "nbconvert_exporter": "python",
   "pygments_lexer": "ipython3",
   "version": "3.9.13"
  },
  "vscode": {
   "interpreter": {
    "hash": "43a24ecce625020f2d6631fb4cfb730bba30d877e9fe9ec2e0d85cb5a52a2b64"
   }
  }
 },
 "nbformat": 4,
 "nbformat_minor": 5
}
